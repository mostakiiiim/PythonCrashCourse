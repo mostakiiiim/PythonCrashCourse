{
 "cells": [
  {
   "cell_type": "markdown",
   "id": "a8bce309",
   "metadata": {},
   "source": [
    "# Numpy, Pandas, Scikit-Learn"
   ]
  },
  {
   "cell_type": "markdown",
   "id": "b93fc884",
   "metadata": {},
   "source": [
    "## NumPy: [NumPy](https://numpy.org/) [Quickstart](https://numpy.org/devdocs/user/quickstart.html)"
   ]
  },
  {
   "cell_type": "markdown",
   "id": "0f224258",
   "metadata": {},
   "source": [
    "From the last practicals -> Go through the Quickstart and learn the basic commands of numpy. Why do you think that we should use this for further machine learning tasks?"
   ]
  },
  {
   "cell_type": "markdown",
   "id": "b37975ce",
   "metadata": {},
   "source": [
    "1. NumPy helps crunch numbers super fast, which is crucial for handling large amounts of data in machine learning.\n",
    "2. It's good for doing math like multiplying matrices, which is common in machine learning.\n",
    "3. NumPy buddies up with other popular Python tools used in machine learning, making it easy to share and use data between different parts of your project.\n",
    "4. It's got handy tools for generating random numbers, which is important for things like setting up initial values in algorithms or creating test data.\n",
    "5. NumPy doesn't store memory like regular Python lists do, which is great when you're working with lots of data.\n",
    "6. It lets you do math operations on arrays of different shapes without a hassle, making your code cleaner and easier to understand."
   ]
  },
  {
   "cell_type": "markdown",
   "id": "2a1feb63",
   "metadata": {},
   "source": [
    "### Some more NumPy tasks"
   ]
  },
  {
   "cell_type": "code",
   "execution_count": null,
   "id": "cef36e75",
   "metadata": {},
   "outputs": [],
   "source": [
    "import numpy as np\n",
    "\n"
   ]
  },
  {
   "cell_type": "markdown",
   "id": "bc38b321",
   "metadata": {},
   "source": [
    "#### Loops"
   ]
  },
  {
   "cell_type": "code",
   "execution_count": null,
   "id": "6a575764",
   "metadata": {},
   "outputs": [],
   "source": [
    "# use numpy for loops, e. g. how can you loop floating point numbers in Python e. g. (0.1, 0.2, 0.3, 0.4, ..., 1).\n",
    "# Of course, there are solutions to do that but try it out with numpy arange.\n",
    "\n",
    "\n",
    "# 1) Code the pythonic way for looping floating point numbers: [0.1, 0.2, 0.3, 0.4, ..., 1]\n",
    "\n",
    "floating_list = [i / 10 for i in range(1, 11)]\n",
    "print(floating_list)\n",
    "\n",
    "\n",
    "# 2) Code the Numpy way:\n",
    "\n",
    "float_array = np.arange(0.1, 1.1, 0.1)\n",
    "print(float_array)\n",
    "\n",
    "# This applies for more than only this example. But what do you find more readable?\n",
    "\n",
    "'''For this specific example, both methods achieve the same result. However,\n",
    "the NumPy way often feels more concise and readable, especially when dealing with larger arrays or more complex operations. \n",
    "Plus, it leverages the optimized implementations within NumPy for better performance.'''"
   ]
  },
  {
   "cell_type": "markdown",
   "id": "fda4a1fc",
   "metadata": {},
   "source": [
    "#### List operations"
   ]
  },
  {
   "cell_type": "code",
   "execution_count": null,
   "id": "5d053961",
   "metadata": {},
   "outputs": [],
   "source": [
    "# Define the list with name _list in pythonic way and numpy way\n",
    "_list = [[1, 2], [3, 4], [5, 6], [7, 8], [9, 10]]\n",
    "\n",
    "# 1) pythonic way\n",
    "_list = [[1, 2], [3, 4], [5, 6], [7, 8], [9, 10]]\n",
    "print(_list)\n",
    "# 2) Numpy way\n",
    "_list = np.array([[1, 2], [3, 4], [5, 6], [7, 8], [9, 10]])\n",
    "print(_list)"
   ]
  },
  {
   "cell_type": "markdown",
   "id": "9cc90d1c",
   "metadata": {},
   "source": [
    "#### Matrix multiplication"
   ]
  },
  {
   "cell_type": "code",
   "execution_count": null,
   "id": "26a35056",
   "metadata": {},
   "outputs": [],
   "source": [
    "# Define the pythonic way for the following numpy expressions\n",
    "\n",
    "#### Task 1\n",
    "_list = [[2.1, 3.5, 7.2], [4.5, 6.6, 7.7]]\n",
    "# 1) Numpy way\n",
    "\n",
    "# Numpy transpose\n",
    "_np_list = np.array(_list).T\n",
    "print('Numpy transpose', _np_list)\n",
    "\n",
    "# 2) Pythonic way for numpy transpose\n",
    "# YOUR CODE...\n",
    "\n",
    "_list = [[2.1, 3.5, 7.2], [4.5, 6.6, 7.7]]\n",
    "\n",
    "_py_transpose = [[row[i] for row in _list] for i in range(len(_list[0]))]\n",
    "print('Pythonic transpose:', _py_transpose)\n",
    "\n",
    "#### Task 2\n",
    "_list1 = [[2, 3, 7], [4, 6, 7]]\n",
    "_list2 = [[3, 4], [7, 1], [1, 8]]\n",
    "# 1) Numpy mat mul\n",
    "_np_mul = np.matmul(_list1, _list2)\n",
    "print('\\nNumpy mat mul:\\n', _np_mul)\n",
    "\n",
    "# 2) Pythonic way\n",
    "\n",
    "# YOUR CODE...\n",
    "\n",
    "_list1 = [[2, 3, 7], [4, 6, 7]]\n",
    "_list2 = [[3, 4], [7, 1], [1, 8]]\n",
    "\n",
    "# Pythonic way for matrix multiplication\n",
    "def matrix_multiply(a, b):\n",
    "    result = []\n",
    "    for i in range(len(a)):\n",
    "        row = []\n",
    "        for j in range(len(b[0])):\n",
    "            sum = 0\n",
    "            for k in range(len(a[0])):\n",
    "                sum += a[i][k] * b[k][j]\n",
    "            row.append(sum)\n",
    "        result.append(row)\n",
    "    return result\n",
    "\n",
    "_py_mul = matrix_multiply(_list1, _list2)\n",
    "print('\\nPythonic mat mul:\\n', _py_mul)\n"
   ]
  },
  {
   "cell_type": "markdown",
   "id": "2a2b85f7",
   "metadata": {},
   "source": [
    "## Pandas: [Pandas](https://pandas.pydata.org/) [Quickstart](https://pandas.pydata.org/docs/getting_started/intro_tutorials/index.html)"
   ]
  },
  {
   "cell_type": "code",
   "execution_count": null,
   "id": "96752b62",
   "metadata": {},
   "outputs": [],
   "source": [
    "import pandas as pd"
   ]
  },
  {
   "cell_type": "code",
   "execution_count": null,
   "id": "95dc5411",
   "metadata": {},
   "outputs": [],
   "source": [
    "# Download the churn dataset from Kaggle: https://www.kaggle.com/datasets/shubh0799/churn-modelling?resource=download\n",
    "# 1) Use the .csv file and read it via pandas\n",
    "df = pd.read_csv(\"./Churn_Modelling.csv\")\n",
    "\n",
    "\n",
    "# 2) Print the columns of the pandas table\n",
    "print(\"Columns:\", df.columns)\n",
    "\n",
    "\n",
    "# 3) Drop the column customerid\n",
    "df.drop(columns=['CustomerId'], inplace=True)\n",
    "\n",
    "\n",
    "# 4) Print the values for the columns 'Gender', 'Age', 'Tenure', 'Balance' only\n",
    "print(df[['Gender', 'Age', 'Tenure', 'Balance']])\n",
    "\n",
    "\n",
    "# 5) Return only the rows where Geography == 'France' and columns 'Gender', 'Age', 'Tenure', 'Balance'\n",
    "\n",
    "france_data = df[df['Geography'] == 'France'][['Gender', 'Age', 'Tenure', 'Balance']]\n",
    "print(\"France data:\\n\", france_data)\n",
    "# 6) Group by the columns 'Geography', and 'Gender' and use the mean function to aggregate the churn rate ('exited' column)\n",
    "grouped_data = df.groupby(['Geography', 'Gender']).mean()['Exited']\n",
    "print(\"Grouped data:\\n\", grouped_data)"
   ]
  },
  {
   "cell_type": "markdown",
   "id": "40eaf39b",
   "metadata": {},
   "source": [
    "## SKlearn: [Scikit-learn](https://scikit-learn.org/stable/) [Quickstart](https://scikit-learn.org/stable/getting_started.html)"
   ]
  },
  {
   "cell_type": "code",
   "execution_count": null,
   "id": "0c865139",
   "metadata": {},
   "outputs": [],
   "source": [
    "# We start the k nearest neighbor algorithm with sklearn\n",
    "from sklearn.neighbors import KNeighborsClassifier"
   ]
  },
  {
   "cell_type": "code",
   "execution_count": null,
   "id": "f120bc8b",
   "metadata": {},
   "outputs": [],
   "source": [
    "# Use the following values and labels to calcualte the kNN\n",
    "X = np.arange(0, 9).reshape(9,1)\n",
    "y = [0, 0, 0, 1, 1, 1, 2, 2, 2]\n",
    "# we know that we have three clusters [0 to 2] has label 0; [3 to 5] has label 1; [6 to 8] has label 2"
   ]
  },
  {
   "cell_type": "code",
   "execution_count": null,
   "id": "41b09567",
   "metadata": {},
   "outputs": [],
   "source": [
    "# Start the KNN algorithm with the values above\n",
    "# YOUR CODE ...\n",
    "from sklearn.neighbors import KNeighborsClassifier\n",
    "import numpy as np\n",
    "\n",
    "X = np.arange(0, 9).reshape(9, 1)\n",
    "y = [0, 0, 0, 1, 1, 1, 2, 2, 2]\n",
    "\n",
    "# Start the KNN algorithm\n",
    "knn = KNeighborsClassifier(n_neighbors=3)  \n",
    "knn.fit(X, y)  \n",
    "\n"
   ]
  },
  {
   "cell_type": "code",
   "execution_count": null,
   "id": "c3c95e65",
   "metadata": {},
   "outputs": [],
   "source": [
    "# predict the label for value 4\n",
    "# YOUR CODE ...\n",
    "\n",
    "prediction = knn.predict([[4]])\n",
    "print(\"Predicted label for value 4:\", prediction[0])\n"
   ]
  },
  {
   "cell_type": "code",
   "execution_count": null,
   "id": "7c7b0860",
   "metadata": {},
   "outputs": [],
   "source": []
  }
 ],
 "metadata": {
  "kernelspec": {
   "display_name": "Python 3 (ipykernel)",
   "language": "python",
   "name": "python3"
  },
  "language_info": {
   "codemirror_mode": {
    "name": "ipython",
    "version": 3
   },
   "file_extension": ".py",
   "mimetype": "text/x-python",
   "name": "python",
   "nbconvert_exporter": "python",
   "pygments_lexer": "ipython3",
   "version": "3.8.8"
  }
 },
 "nbformat": 4,
 "nbformat_minor": 5
}
